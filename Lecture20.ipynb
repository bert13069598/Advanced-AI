{
  "nbformat": 4,
  "nbformat_minor": 0,
  "metadata": {
    "colab": {
      "provenance": [],
      "authorship_tag": "ABX9TyPZYMZma0wer+pB5bts1oEi",
      "include_colab_link": true
    },
    "kernelspec": {
      "name": "python3",
      "display_name": "Python 3"
    },
    "language_info": {
      "name": "python"
    },
    "accelerator": "GPU",
    "gpuClass": "standard"
  },
  "cells": [
    {
      "cell_type": "markdown",
      "metadata": {
        "id": "view-in-github",
        "colab_type": "text"
      },
      "source": [
        "<a href=\"https://colab.research.google.com/github/bert13069598/Advanced-AI/blob/master/Lecture20.ipynb\" target=\"_parent\"><img src=\"https://colab.research.google.com/assets/colab-badge.svg\" alt=\"Open In Colab\"/></a>"
      ]
    },
    {
      "cell_type": "markdown",
      "source": [
        "# MNIST database"
      ],
      "metadata": {
        "id": "3DpmhbjXtdge"
      }
    },
    {
      "cell_type": "markdown",
      "source": [
        "## PyTorch provides useful package for this task"
      ],
      "metadata": {
        "id": "G-t4dQpKtdZA"
      }
    },
    {
      "cell_type": "code",
      "execution_count": 27,
      "metadata": {
        "colab": {
          "base_uri": "https://localhost:8080/"
        },
        "id": "ulkiC9GtsmzB",
        "outputId": "516ac65e-ef97-4619-9647-a8a17f67c6a0"
      },
      "outputs": [
        {
          "output_type": "stream",
          "name": "stdout",
          "text": [
            "다음 기기로 학습: cuda\n"
          ]
        }
      ],
      "source": [
        "import torch\n",
        "import torchvision.datasets as dsets\n",
        "import torchvision.transforms as transforms\n",
        "from torch.utils.data import DataLoader\n",
        "import torch.nn as nn\n",
        "import matplotlib.pyplot as plt\n",
        "import random\n",
        "\n",
        "USE_CUDA = torch.cuda.is_available()\n",
        "device = torch.device(\"cuda\" if USE_CUDA else \"cpu\")\n",
        "print(\"다음 기기로 학습:\", device)"
      ]
    },
    {
      "cell_type": "markdown",
      "source": [
        "## Batch size, Epoch 횟수 등 초기 설정 수행"
      ],
      "metadata": {
        "id": "6sbLz7_P0W5u"
      }
    },
    {
      "cell_type": "code",
      "source": [
        "# for reproducibility\n",
        "random.seed(777)\n",
        "torch.manual_seed(777)\n",
        "if device == 'cuda':\n",
        "  torch.cuda.manual_seed_all(777)\n",
        "\n",
        "# hyperparameters\n",
        "training_epochs = 15\n",
        "batch_size = 100"
      ],
      "metadata": {
        "id": "tEE-N_FMtnK-"
      },
      "execution_count": 28,
      "outputs": []
    },
    {
      "cell_type": "markdown",
      "source": [
        "## PyTorch에서 제공되는 MNIST 클래스 사용"
      ],
      "metadata": {
        "id": "Byipk68K09Oh"
      }
    },
    {
      "cell_type": "code",
      "source": [
        "# MNIST dataset\n",
        "mnist_train = dsets.MNIST(root='MNIST_data/',\n",
        "                          train=True,\n",
        "                          transform=transforms.ToTensor(),\n",
        "                          download=True)\n",
        "mnist_test = dsets.MNIST(root='MNIST_data/',\n",
        "                         train=False,\n",
        "                         transform=transforms.ToTensor(),\n",
        "                         download=True)\n",
        "# dataset loader\n",
        "data_loader = DataLoader(dataset=mnist_train,\n",
        "                         batch_size=batch_size, # 배치 크기는 100\n",
        "                         shuffle=True,\n",
        "                         drop_last=True)"
      ],
      "metadata": {
        "id": "zPaKCWqV06Io"
      },
      "execution_count": 29,
      "outputs": []
    },
    {
      "cell_type": "code",
      "source": [
        "print('mnist_train :', len(mnist_train))\n",
        "print('mnist_test :', len(mnist_test))\n",
        "train_features, train_labels = next(iter(data_loader))\n",
        "print(\"Feature batch shape :\", {train_features.size()})\n",
        "print(\"Labels batch shape :\", {train_labels.size()})"
      ],
      "metadata": {
        "colab": {
          "base_uri": "https://localhost:8080/"
        },
        "id": "AYV96rtv1gBh",
        "outputId": "df1f0b4a-9ec8-4397-ec7c-b130e9aae6d7"
      },
      "execution_count": 30,
      "outputs": [
        {
          "output_type": "stream",
          "name": "stdout",
          "text": [
            "mnist_train : 60000\n",
            "mnist_test : 10000\n",
            "Feature batch shape : {torch.Size([100, 1, 28, 28])}\n",
            "Labels batch shape : {torch.Size([100])}\n"
          ]
        }
      ]
    },
    {
      "cell_type": "markdown",
      "source": [
        "## Our baseline : input -> output connection (i.e., no hidden layer)"
      ],
      "metadata": {
        "id": "nPZesBPz2c1M"
      }
    },
    {
      "cell_type": "code",
      "source": [
        "# MNIST data image of shape 28 x 28 = 784\n",
        "linear = nn.Linear(784, 10, bias=True).to(device)\n",
        "\n",
        "# Loss function and optimizer\n",
        "criterion = nn.CrossEntropyLoss().to(device) # 내부적으로 Softmax 함수를 포함하고 있음.\n",
        "optimizer = torch.optim.SGD(linear.parameters(), lr=0.1)"
      ],
      "metadata": {
        "id": "gYgYBWRn1MM7"
      },
      "execution_count": 32,
      "outputs": []
    },
    {
      "cell_type": "markdown",
      "source": [
        "## Start learning"
      ],
      "metadata": {
        "id": "CPdxt15S_LnC"
      }
    },
    {
      "cell_type": "code",
      "source": [
        "for epoch in range(training_epochs): # 앞서 training_epochs의 값은 15로 지정\n",
        "  avg_cost = 0\n",
        "  total_batch = len(data_loader)\n",
        "  for X, Y in data_loader:\n",
        "    # 배치 크기가 100이므로 아래의 연산에서 X는 (100, 784)의 텐서\n",
        "    X = X.view(-1, 28 * 28).to(device)\n",
        "    # 레이블은 one-hot 인코딩이 된 상태가 아니라 0 ~ 9의 정수\n",
        "    Y = Y.to(device)\n",
        "\n",
        "    optimizer.zero_grad()\n",
        "    hypothesis = linear(X)\n",
        "    cost = criterion(hypothesis, Y)\n",
        "    cost.backward()\n",
        "    optimizer.step()\n",
        "\n",
        "    avg_cost += cost / total_batch\n",
        "    \n",
        "  print('Epoch:', '%04d' % (epoch + 1), 'cost =', '{:.9f}'.format(avg_cost))\n",
        "print('Learning finished')"
      ],
      "metadata": {
        "colab": {
          "base_uri": "https://localhost:8080/"
        },
        "id": "cewnQF_A2wsP",
        "outputId": "1281c072-7df1-4b71-e986-e8a74d81b96c"
      },
      "execution_count": 33,
      "outputs": [
        {
          "output_type": "stream",
          "name": "stdout",
          "text": [
            "Epoch: 0001 cost = 0.534904122\n",
            "Epoch: 0002 cost = 0.359337002\n",
            "Epoch: 0003 cost = 0.331338406\n",
            "Epoch: 0004 cost = 0.316336244\n",
            "Epoch: 0005 cost = 0.307073414\n",
            "Epoch: 0006 cost = 0.300330311\n",
            "Epoch: 0007 cost = 0.294883221\n",
            "Epoch: 0008 cost = 0.290776223\n",
            "Epoch: 0009 cost = 0.287194371\n",
            "Epoch: 0010 cost = 0.284428656\n",
            "Epoch: 0011 cost = 0.281894892\n",
            "Epoch: 0012 cost = 0.279716760\n",
            "Epoch: 0013 cost = 0.277680069\n",
            "Epoch: 0014 cost = 0.275992393\n",
            "Epoch: 0015 cost = 0.274349064\n",
            "Learning finished\n"
          ]
        }
      ]
    },
    {
      "cell_type": "markdown",
      "source": [
        "## After training, we now can estimate the accuracy of our model"
      ],
      "metadata": {
        "id": "EOO6GC8C_YFq"
      }
    },
    {
      "cell_type": "code",
      "source": [
        "with torch.no_grad(): # torch.no_grad()를 하면 gradient 계산을 수행하지 않음\n",
        "  X_test = mnist_test.test_data.view(-1, 28 * 28).float().to(device)\n",
        "  Y_test = mnist_test.test_labels.to(device)\n",
        "\n",
        "  prediction = linear(X_test)\n",
        "  correct_prediction = torch.argmax(prediction, 1) == Y_test\n",
        "  accuracy = correct_prediction.float().mean()\n",
        "  print('Accuracy:', accuracy.item())\n",
        "\n",
        "  # MNIST 테스트 데이터에서 무작위로 하나를 뽑아서 예측\n",
        "  r = random.randint(0, len(mnist_test) - 1)\n",
        "  X_single_data = mnist_test.test_data[r:r + 1].view(-1, 28 * 28).float().to(device)\n",
        "  Y_single_data = mnist_test.test_labels[r:r + 1].to(device)\n",
        "\n",
        "  print('Label: ', Y_single_data.item())\n",
        "  single_prediction = linear(X_single_data)\n",
        "  print('Prediction: ', torch.argmax(single_prediction, 1).item())\n",
        "  \n",
        "  plt.imshow(mnist_test.test_data[r:r + 1].view(28, 28), cmap='Greys', interpolation='nearest')\n",
        "  plt.show()"
      ],
      "metadata": {
        "colab": {
          "base_uri": "https://localhost:8080/",
          "height": 414
        },
        "id": "GNpa7BMX94AK",
        "outputId": "da2822b3-e72c-4a7b-ee63-aa6731cead15"
      },
      "execution_count": 34,
      "outputs": [
        {
          "output_type": "stream",
          "name": "stdout",
          "text": [
            "Accuracy: 0.8887999653816223\n",
            "Label:  8\n",
            "Prediction:  3\n"
          ]
        },
        {
          "output_type": "stream",
          "name": "stderr",
          "text": [
            "/usr/local/lib/python3.7/dist-packages/torchvision/datasets/mnist.py:80: UserWarning: test_data has been renamed data\n",
            "  warnings.warn(\"test_data has been renamed data\")\n",
            "/usr/local/lib/python3.7/dist-packages/torchvision/datasets/mnist.py:70: UserWarning: test_labels has been renamed targets\n",
            "  warnings.warn(\"test_labels has been renamed targets\")\n"
          ]
        },
        {
          "output_type": "display_data",
          "data": {
            "text/plain": [
              "<Figure size 432x288 with 1 Axes>"
            ],
            "image/png": "[encoded data removed]"
          },
          "metadata": {
            "needs_background": "light"
          }
        }
      ]
    }
  ]
}