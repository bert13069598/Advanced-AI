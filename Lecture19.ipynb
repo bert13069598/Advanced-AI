{
  "nbformat": 4,
  "nbformat_minor": 0,
  "metadata": {
    "colab": {
      "provenance": [],
      "mount_file_id": "1rjk2kuECTYA5ORaMuGUmpgruZiQWUzBE",
      "authorship_tag": "ABX9TyPckiLyTfniOIbxHDrg0C0Q",
      "include_colab_link": true
    },
    "kernelspec": {
      "name": "python3",
      "display_name": "Python 3"
    },
    "language_info": {
      "name": "python"
    }
  },
  "cells": [
    {
      "cell_type": "markdown",
      "metadata": {
        "id": "view-in-github",
        "colab_type": "text"
      },
      "source": [
        "<a href=\"https://colab.research.google.com/github/bert13069598/Advanced-AI/blob/master/Lecture19.ipynb\" target=\"_parent\"><img src=\"https://colab.research.google.com/assets/colab-badge.svg\" alt=\"Open In Colab\"/></a>"
      ]
    },
    {
      "cell_type": "markdown",
      "source": [
        "## Various benchmark datasets can be obtained by \"download\""
      ],
      "metadata": {
        "id": "fmGP0v2OIfEj"
      }
    },
    {
      "cell_type": "code",
      "execution_count": 56,
      "metadata": {
        "id": "216hZG9wXMhr"
      },
      "outputs": [],
      "source": [
        "import torch\n",
        "from torch.utils.data import Dataset\n",
        "from torchvision import datasets\n",
        "from torchvision.transforms import ToTensor\n",
        "import matplotlib.pyplot as plt\n",
        "\n",
        "training_data=datasets.FashionMNIST(\n",
        "    root=\"data\",\n",
        "    train=True,\n",
        "    download=True,\n",
        "    transform=ToTensor()\n",
        ")\n",
        "\n",
        "test_data=datasets.FashionMNIST(\n",
        "    root=\"data\",\n",
        "    train=False,\n",
        "    download=True,\n",
        "    transform=ToTensor()\n",
        ")"
      ]
    },
    {
      "cell_type": "code",
      "source": [
        "print('training_data :', len(training_data))\n",
        "print('test_data :', len(test_data))"
      ],
      "metadata": {
        "colab": {
          "base_uri": "https://localhost:8080/"
        },
        "id": "Gy8SSUSmKqP9",
        "outputId": "34326ab6-133e-4f5f-fb16-c091aae709ec"
      },
      "execution_count": 57,
      "outputs": [
        {
          "output_type": "stream",
          "name": "stdout",
          "text": [
            "training_data : 60000\n",
            "test_data : 10000\n"
          ]
        }
      ]
    },
    {
      "cell_type": "markdown",
      "source": [
        "## Code for check downloading result (sample visualization)"
      ],
      "metadata": {
        "id": "ZVapta8JIkyy"
      }
    },
    {
      "cell_type": "code",
      "source": [
        "labels_map={\n",
        "    0:\"T-Shirt\",\n",
        "    1:\"Trouser\",\n",
        "    2:\"Pullover\",\n",
        "    3:\"Dress\",\n",
        "    4:\"Coat\",\n",
        "    5:\"Sandal\",\n",
        "    6:\"Shirt\",\n",
        "    7:\"Sneaker\",\n",
        "    8:\"Bag\",\n",
        "    9:\"Ankle Boot\"\n",
        "}\n",
        "\n",
        "figure=plt.figure(figsize=(8,8))\n",
        "cols,rows=3,3\n",
        "for i in range(1,cols*rows+1):\n",
        "  sample_idx=torch.randint(len(training_data),size=(1,)).item()\n",
        "\n",
        "  print(training_data[sample_idx][0].size())\n",
        "  print(training_data[sample_idx][1])\n",
        "  \n",
        "  img,label=training_data[sample_idx]\n",
        "  figure.add_subplot(rows, cols, i)\n",
        "  plt.title(labels_map[label])\n",
        "  plt.axis(\"off\")\n",
        "  print(img.squeeze().size(),'\\n')\n",
        "  plt.imshow(img.squeeze(),\"gray\")\n",
        "plt.show()"
      ],
      "metadata": {
        "id": "o1wd1DVDbE_W",
        "colab": {
          "base_uri": "https://localhost:8080/",
          "height": 1000
        },
        "outputId": "c3b83a59-ad3f-4af1-d8e8-e407eff087f9"
      },
      "execution_count": 58,
      "outputs": [
        {
          "output_type": "stream",
          "name": "stdout",
          "text": [
            "torch.Size([1, 28, 28])\n",
            "5\n",
            "torch.Size([28, 28]) \n",
            "\n",
            "torch.Size([1, 28, 28])\n",
            "2\n",
            "torch.Size([28, 28]) \n",
            "\n",
            "torch.Size([1, 28, 28])\n",
            "8\n",
            "torch.Size([28, 28]) \n",
            "\n",
            "torch.Size([1, 28, 28])\n",
            "4\n",
            "torch.Size([28, 28]) \n",
            "\n",
            "torch.Size([1, 28, 28])\n",
            "2\n",
            "torch.Size([28, 28]) \n",
            "\n",
            "torch.Size([1, 28, 28])\n",
            "6\n",
            "torch.Size([28, 28]) \n",
            "\n",
            "torch.Size([1, 28, 28])\n",
            "0\n",
            "torch.Size([28, 28]) \n",
            "\n",
            "torch.Size([1, 28, 28])\n",
            "6\n",
            "torch.Size([28, 28]) \n",
            "\n",
            "torch.Size([1, 28, 28])\n",
            "5\n",
            "torch.Size([28, 28]) \n",
            "\n"
          ]
        },
        {
          "output_type": "display_data",
          "data": {
            "text/plain": [
              "<Figure size 576x576 with 9 Axes>"
            ],
            "image/png": "[encoded data removed]"
          },
          "metadata": {
            "needs_background": "light"
          }
        }
      ]
    },
    {
      "cell_type": "code",
      "source": [
        "import os\n",
        "import pandas as pd\n",
        "from torchvision.io import read_image\n",
        "\n",
        "class CustomImageDataset(Dataset):\n",
        "  def __init__(self, annotations_file, img_dir, transform=None, target_transform=None):\n",
        "    self.img_labels=pd.read_csv(annotations_file)\n",
        "    self.img_dir=img_dir\n",
        "    self.transform=transform\n",
        "    self.target_transform=target_transform\n",
        "    \n",
        "  def __len__(self):\n",
        "    return len(self.img_labels)\n",
        "\n",
        "  def __getitem__(self, idx):\n",
        "    img_path = os.path.join(self.img_dir, self.img_labels.iloc[idx, 0])\n",
        "    image = read_image(img_path)\n",
        "    label = self.img_labels.iloc[idx, 1]\n",
        "    if self.transform:\n",
        "      image = self.transform(image)\n",
        "    if self.target_transform:\n",
        "      label = self.target_transform(label)\n",
        "    return image, label"
      ],
      "metadata": {
        "id": "yz90wrXYf_20"
      },
      "execution_count": 59,
      "outputs": []
    },
    {
      "cell_type": "code",
      "source": [
        "from torch.utils.data import DataLoader\n",
        "\n",
        "train_dataloader = DataLoader(training_data, batch_size=64, shuffle=True)\n",
        "test_dataloader = DataLoader(test_data, batch_size=64, shuffle=True)\n",
        "\n",
        "train_features, train_labels = next(iter(train_dataloader))\n",
        "print(\"Feature batch shape :\", {train_features.size()})\n",
        "print(\"Labels batch shape :\", {train_labels.size()})\n",
        "img = train_features[0].squeeze()\n",
        "label = train_labels[0]\n",
        "plt.imshow(img, cmap=\"gray\")\n",
        "plt.show()\n",
        "print(\"Label =\", label)"
      ],
      "metadata": {
        "colab": {
          "base_uri": "https://localhost:8080/",
          "height": 320
        },
        "id": "YXmFm9EaX3Di",
        "outputId": "a0ce390c-07f1-4ce8-ff70-5fe51eca7237"
      },
      "execution_count": 62,
      "outputs": [
        {
          "output_type": "stream",
          "name": "stdout",
          "text": [
            "Feature batch shape : {torch.Size([64, 1, 28, 28])}\n",
            "Labels batch shape : {torch.Size([64])}\n"
          ]
        },
        {
          "output_type": "display_data",
          "data": {
            "text/plain": [
              "<Figure size 432x288 with 1 Axes>"
            ],
            "image/png": "[encoded data removed]"
          },
          "metadata": {
            "needs_background": "light"
          }
        },
        {
          "output_type": "stream",
          "name": "stdout",
          "text": [
            "Label = tensor(8)\n"
          ]
        }
      ]
    }
  ]
}